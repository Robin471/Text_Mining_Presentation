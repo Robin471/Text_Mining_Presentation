{
 "cells": [
  {
   "cell_type": "code",
   "execution_count": 1,
   "metadata": {},
   "outputs": [
    {
     "name": "stderr",
     "output_type": "stream",
     "text": [
      "[nltk_data] Downloading package vader_lexicon to\n",
      "[nltk_data]     C:\\Users\\lecle\\AppData\\Roaming\\nltk_data...\n",
      "[nltk_data]   Package vader_lexicon is already up-to-date!\n",
      "[nltk_data] Downloading package punkt to\n",
      "[nltk_data]     C:\\Users\\lecle\\AppData\\Roaming\\nltk_data...\n",
      "[nltk_data]   Package punkt is already up-to-date!\n"
     ]
    }
   ],
   "source": [
    "import nltk\n",
    "from nltk.sentiment import SentimentIntensityAnalyzer\n",
    "nltk.download('vader_lexicon')\n",
    "from nltk.corpus import stopwords\n",
    "nltk.download('punkt')\n",
    "from nltk.stem import WordNetLemmatizer\n",
    "lemmatizer = WordNetLemmatizer()"
   ]
  },
  {
   "cell_type": "code",
   "execution_count": 2,
   "metadata": {},
   "outputs": [],
   "source": [
    "stop_words = set(stopwords.words('english')) \n",
    "\n",
    "def remove_stop_words_and_lemmatize(sentence): \n",
    "  words = sentence.split() \n",
    "  filtered_words = []\n",
    "  i = 0\n",
    "  for word in words:\n",
    "    i += 1\n",
    "    if word not in stop_words:\n",
    "      filtered_words.append(lemmatizer.lemmatize(word))\n",
    "  return ' '.join(filtered_words)"
   ]
  },
  {
   "cell_type": "code",
   "execution_count": 3,
   "metadata": {},
   "outputs": [
    {
     "name": "stdout",
     "output_type": "stream",
     "text": [
      "Phrase: I love this product, he is fantastic !\n",
      "Score de sentiment: {'neg': 0.0, 'neu': 0.331, 'pos': 0.669, 'compound': 0.8439}\n",
      "Sentiment : Positif\n",
      "\n",
      "\n",
      "Phrase: Ohhhh.... I'm really not sure about buying this product, its quality seems cheap\n",
      "Score de sentiment: {'neg': 0.157, 'neu': 0.843, 'pos': 0.0, 'compound': -0.305}\n",
      "Sentiment : Négatif\n",
      "\n",
      "\n",
      "Phrase: What a sad rainy day !\n",
      "Score de sentiment: {'neg': 0.701, 'neu': 0.299, 'pos': 0.0, 'compound': -0.5707}\n",
      "Sentiment : Négatif\n",
      "\n",
      "\n",
      "Phrase: I love this product, he is fantastic !\n",
      "Score de sentiment: {'neg': 0.0, 'neu': 0.11, 'pos': 0.89, 'compound': 0.8439}\n",
      "Sentiment : Positif\n",
      "\n",
      "\n",
      "Phrase: Ohhhh.... I'm really not sure about buying this product, its quality seems cheap\n",
      "Score de sentiment: {'neg': 0.0, 'neu': 0.755, 'pos': 0.245, 'compound': 0.3804}\n",
      "Sentiment : Positif\n",
      "\n",
      "\n",
      "Phrase: What a sad rainy day !\n",
      "Score de sentiment: {'neg': 0.701, 'neu': 0.299, 'pos': 0.0, 'compound': -0.5707}\n",
      "Sentiment : Négatif\n",
      "\n",
      "\n"
     ]
    }
   ],
   "source": [
    "sia = SentimentIntensityAnalyzer()\n",
    "\n",
    "phrases = [\"I love this product, he is fantastic !\",\n",
    "           \"Ohhhh.... I'm really not sure about buying this product, its quality seems cheap\",\n",
    "           \"What a sad rainy day !\"]\n",
    "\n",
    "# Analyse de sentiment pour chaque phrase\n",
    "for phrase in phrases:\n",
    "    score = sia.polarity_scores(phrase)\n",
    "    print(f\"Phrase: {phrase}\")\n",
    "    print(f\"Score de sentiment: {score}\")\n",
    "    if score['compound'] >= 0.05:\n",
    "        print(\"Sentiment : Positif\")\n",
    "    elif score['compound'] <= -0.05:\n",
    "        print(\"Sentiment : Négatif\")\n",
    "    else:\n",
    "        print(\"Sentiment : Neutre\")\n",
    "    print(\"\\n\")\n",
    "\n",
    "for phrase in phrases:\n",
    "    score = sia.polarity_scores(remove_stop_words_and_lemmatize(phrase))\n",
    "    print(f\"Phrase: {phrase}\")\n",
    "    print(f\"Score de sentiment: {score}\")\n",
    "    if score['compound'] >= 0.05:\n",
    "        print(\"Sentiment : Positif\")\n",
    "    elif score['compound'] <= -0.05:\n",
    "        print(\"Sentiment : Négatif\")\n",
    "    else:\n",
    "        print(\"Sentiment : Neutre\")\n",
    "    print(\"\\n\")"
   ]
  },
  {
   "cell_type": "code",
   "execution_count": 4,
   "metadata": {},
   "outputs": [
    {
     "name": "stdout",
     "output_type": "stream",
     "text": [
      "Score de sentiment: {'neg': 0.154, 'neu': 0.759, 'pos': 0.087, 'compound': -0.8126}\n",
      "Sentiment : Négatif\n",
      "Score de sentiment: {'neg': 0.266, 'neu': 0.619, 'pos': 0.115, 'compound': -0.9272}\n",
      "Sentiment : Négatif\n"
     ]
    }
   ],
   "source": [
    "text = open(\"./Email_negative.txt\", encoding=\"utf8\", mode='r').read()\n",
    "score = sia.polarity_scores(text)\n",
    "print(f\"Score de sentiment: {score}\")    \n",
    "if score['compound'] >= 0.05:\n",
    "    print(\"Sentiment : Positif\")\n",
    "elif score['compound'] <= -0.05:\n",
    "    print(\"Sentiment : Négatif\")\n",
    "else:\n",
    "    print(\"Sentiment : Neutre\")\n",
    "\n",
    "score = sia.polarity_scores(remove_stop_words_and_lemmatize(text))\n",
    "print(f\"Score de sentiment: {score}\")    \n",
    "if score['compound'] >= 0.05:\n",
    "    print(\"Sentiment : Positif\")\n",
    "elif score['compound'] <= -0.05:\n",
    "    print(\"Sentiment : Négatif\")\n",
    "else:\n",
    "    print(\"Sentiment : Neutre\")"
   ]
  },
  {
   "cell_type": "code",
   "execution_count": 5,
   "metadata": {},
   "outputs": [
    {
     "name": "stdout",
     "output_type": "stream",
     "text": [
      "Score de sentiment: {'neg': 0.039, 'neu': 0.614, 'pos': 0.348, 'compound': 0.9968}\n",
      "Sentiment : Positif\n",
      "Score de sentiment: {'neg': 0.026, 'neu': 0.463, 'pos': 0.511, 'compound': 0.9968}\n",
      "Sentiment : Positif\n"
     ]
    }
   ],
   "source": [
    "text = open(\"./Email_positive.txt\", encoding=\"utf8\", mode='r').read()\n",
    "score = sia.polarity_scores(text)\n",
    "print(f\"Score de sentiment: {score}\")    \n",
    "if score['compound'] >= 0.05:\n",
    "    print(\"Sentiment : Positif\")\n",
    "elif score['compound'] <= -0.05:\n",
    "    print(\"Sentiment : Négatif\")\n",
    "else:\n",
    "    print(\"Sentiment : Neutre\")\n",
    "\n",
    "score = sia.polarity_scores(remove_stop_words_and_lemmatize(text))\n",
    "print(f\"Score de sentiment: {score}\")    \n",
    "if score['compound'] >= 0.05:\n",
    "    print(\"Sentiment : Positif\")\n",
    "elif score['compound'] <= -0.05:\n",
    "    print(\"Sentiment : Négatif\")\n",
    "else:\n",
    "    print(\"Sentiment : Neutre\")"
   ]
  }
 ],
 "metadata": {
  "kernelspec": {
   "display_name": "Python 3",
   "language": "python",
   "name": "python3"
  },
  "language_info": {
   "codemirror_mode": {
    "name": "ipython",
    "version": 3
   },
   "file_extension": ".py",
   "mimetype": "text/x-python",
   "name": "python",
   "nbconvert_exporter": "python",
   "pygments_lexer": "ipython3",
   "version": "3.11.3"
  }
 },
 "nbformat": 4,
 "nbformat_minor": 2
}
